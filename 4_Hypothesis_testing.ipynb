{
  "cells": [
    {
      "cell_type": "markdown",
      "source": [
        "# HYPOTHESIS TESTING"
      ],
      "metadata": {
        "id": "YaGsk6u4idcz"
      },
      "id": "YaGsk6u4idcz"
    },
    {
      "cell_type": "markdown",
      "source": [
        "**Null Hypothesis (H₀):** The theoretical mean weekly cost according to the cost model is accurate.\n",
        "\n",
        "\n",
        "H\n",
        "0\n",
        ": μ = theoretical mean weekly cost\n",
        "\n",
        "**Alternative Hypothesis (H₁):** The observed mean weekly cost is higher than the theoretical mean weekly cost.\n",
        "\n",
        "H\n",
        "1\n",
        "​\n",
        " : μ > theoretical mean weekly cost"
      ],
      "metadata": {
        "id": "ysDNAdnagyLz"
      },
      "id": "ysDNAdnagyLz"
    },
    {
      "cell_type": "code",
      "source": [
        "import scipy.stats as stats\n",
        "import numpy as np"
      ],
      "metadata": {
        "id": "DZAJkK9QhcMf"
      },
      "id": "DZAJkK9QhcMf",
      "execution_count": null,
      "outputs": []
    },
    {
      "cell_type": "code",
      "source": [
        "sample_mean = 3050  # sample mean weekly cost\n",
        "theoretical_mean = 4000  # theoretical mean weekly cost\n",
        "std_deviation_per_unit = 25  # standard deviation of units produced\n",
        "units_coefficient = 5  # coefficient in the cost model\n",
        "sample_size = 25  # number of restaurants"
      ],
      "metadata": {
        "id": "_vskmjOfhcPQ"
      },
      "id": "_vskmjOfhcPQ",
      "execution_count": null,
      "outputs": []
    },
    {
      "cell_type": "code",
      "source": [
        "# Calculate the standard deviation of the weekly cost\n",
        "std_deviation = units_coefficient * std_deviation_per_unit"
      ],
      "metadata": {
        "id": "ick-ufDNhkPn"
      },
      "id": "ick-ufDNhkPn",
      "execution_count": null,
      "outputs": []
    },
    {
      "cell_type": "code",
      "source": [
        "# Calculate the test statistic (t)\n",
        "t_statistic = (sample_mean - theoretical_mean) / (std_deviation / (sample_size ** 0.5))"
      ],
      "metadata": {
        "id": "6jB-l4Zwhmei"
      },
      "id": "6jB-l4Zwhmei",
      "execution_count": null,
      "outputs": []
    },
    {
      "cell_type": "code",
      "source": [
        "print(f'Test Statistic (t): {t_statistic}')"
      ],
      "metadata": {
        "colab": {
          "base_uri": "https://localhost:8080/"
        },
        "id": "8LX0t4-XhpL4",
        "outputId": "237fa0a9-7cac-41ae-ab60-b58a0e2d736f"
      },
      "id": "8LX0t4-XhpL4",
      "execution_count": null,
      "outputs": [
        {
          "output_type": "stream",
          "name": "stdout",
          "text": [
            "Test Statistic (t): -38.0\n"
          ]
        }
      ]
    },
    {
      "cell_type": "code",
      "source": [
        "# Determine the critical value for alpha level of 0.05 (one-tailed test)\n",
        "alpha = 0.05\n",
        "critical_value = stats.norm.ppf(1 - alpha)"
      ],
      "metadata": {
        "id": "5zcfINbdhrSR"
      },
      "id": "5zcfINbdhrSR",
      "execution_count": null,
      "outputs": []
    },
    {
      "cell_type": "code",
      "source": [
        "print(f'Critical Value (Z): {critical_value}')"
      ],
      "metadata": {
        "colab": {
          "base_uri": "https://localhost:8080/"
        },
        "id": "oNq8VCoxhtZe",
        "outputId": "5d9f7866-bab9-430c-fd98-e27f4ee9f4c9"
      },
      "id": "oNq8VCoxhtZe",
      "execution_count": null,
      "outputs": [
        {
          "output_type": "stream",
          "name": "stdout",
          "text": [
            "Critical Value (Z): 1.6448536269514722\n"
          ]
        }
      ]
    },
    {
      "cell_type": "markdown",
      "source": [
        "Since,\n",
        "\n",
        "\n",
        "**t < Z\n",
        "0.05\n",
        "​\n",
        " , we reject the null hypothesis.**\n",
        "\n",
        " **There is strong evidence to support the restaurant owners' claim that the weekly operating costs are higher than the model suggests.**"
      ],
      "metadata": {
        "id": "aCuCZoQUh_SM"
      },
      "id": "aCuCZoQUh_SM"
    },
    {
      "cell_type": "markdown",
      "source": [
        "# CHI-SQUARE TESTING"
      ],
      "metadata": {
        "id": "23ijgYuMjLIN"
      },
      "id": "23ijgYuMjLIN"
    },
    {
      "cell_type": "markdown",
      "source": [
        "**Null Hypothesis (H₀):** There is no significant association between the type of smart home device purchased and the customer satisfaction level.\n",
        "\n",
        "**Alternative Hypothesis (H₁):** There is a significant association between the type of smart home device purchased and the customer satisfaction level."
      ],
      "metadata": {
        "id": "ukrrasI6jOpy"
      },
      "id": "ukrrasI6jOpy"
    },
    {
      "cell_type": "code",
      "source": [
        "observed = np.array([\n",
        "    [50, 70],\n",
        "    [80, 100],\n",
        "    [60, 90],\n",
        "    [30, 50],\n",
        "    [20, 50]\n",
        "])\n",
        "\n",
        "print(observed)"
      ],
      "metadata": {
        "colab": {
          "base_uri": "https://localhost:8080/"
        },
        "id": "MpgXoJyFjbIX",
        "outputId": "f36371b4-4844-4293-ff33-0618a39965bd"
      },
      "id": "MpgXoJyFjbIX",
      "execution_count": null,
      "outputs": [
        {
          "output_type": "stream",
          "name": "stdout",
          "text": [
            "[[ 50  70]\n",
            " [ 80 100]\n",
            " [ 60  90]\n",
            " [ 30  50]\n",
            " [ 20  50]]\n"
          ]
        }
      ]
    },
    {
      "cell_type": "code",
      "source": [
        "row_sums = observed.sum(axis=1)\n",
        "col_sums = observed.sum(axis=0)\n",
        "total = observed.sum()\n",
        "\n",
        "# Expected frequencies\n",
        "expected = np.outer(row_sums, col_sums) / total"
      ],
      "metadata": {
        "id": "ClZUgykQjhs1"
      },
      "id": "ClZUgykQjhs1",
      "execution_count": null,
      "outputs": []
    },
    {
      "cell_type": "code",
      "source": [
        "# Chi-Square statistic\n",
        "chi_square_statistic = ((observed - expected) ** 2 / expected).sum()\n",
        "print(f'Chi-Square Statistic: {chi_square_statistic}')"
      ],
      "metadata": {
        "colab": {
          "base_uri": "https://localhost:8080/"
        },
        "id": "tDHdjJRsjkXd",
        "outputId": "cefd37f9-1dcd-4c6b-9977-2909ec04344e"
      },
      "id": "tDHdjJRsjkXd",
      "execution_count": null,
      "outputs": [
        {
          "output_type": "stream",
          "name": "stdout",
          "text": [
            "Chi-Square Statistic: 5.638227513227513\n"
          ]
        }
      ]
    },
    {
      "cell_type": "code",
      "source": [
        "# Degrees of freedom\n",
        "df = (observed.shape[0] - 1) * (observed.shape[1] - 1)\n",
        "print(f'Degrees of Freedom: {df}')"
      ],
      "metadata": {
        "colab": {
          "base_uri": "https://localhost:8080/"
        },
        "id": "18PujgGrjrIl",
        "outputId": "6ec5a3c3-94a6-430c-c276-f6526d50a03f"
      },
      "id": "18PujgGrjrIl",
      "execution_count": null,
      "outputs": [
        {
          "output_type": "stream",
          "name": "stdout",
          "text": [
            "Degrees of Freedom: 4\n"
          ]
        }
      ]
    },
    {
      "cell_type": "code",
      "source": [
        "# Critical value\n",
        "alpha = 0.05\n",
        "critical_value = stats.chi2.ppf(1 - alpha, df)\n",
        "print(f'Critical Value: {critical_value}')\n",
        "# P-value\n",
        "p_value = 1 - stats.chi2.cdf(chi_square_statistic, df)\n",
        "print(f'P-value: {p_value}')"
      ],
      "metadata": {
        "colab": {
          "base_uri": "https://localhost:8080/"
        },
        "id": "ngBcjpjwjuDp",
        "outputId": "7d45ec76-9664-46b7-e39d-94773ab90ad9"
      },
      "id": "ngBcjpjwjuDp",
      "execution_count": null,
      "outputs": [
        {
          "output_type": "stream",
          "name": "stdout",
          "text": [
            "Critical Value: 9.487729036781154\n",
            "P-value: 0.22784371130697179\n"
          ]
        }
      ]
    },
    {
      "cell_type": "code",
      "execution_count": null,
      "id": "83027c59",
      "metadata": {
        "colab": {
          "base_uri": "https://localhost:8080/"
        },
        "id": "83027c59",
        "outputId": "3fb253f1-5b6a-4f78-931a-d83e3d255bc5"
      },
      "outputs": [
        {
          "output_type": "stream",
          "name": "stdout",
          "text": [
            "Fail to reject the null hypothesis: There is no significant association between the type of smart home device purchased and the customer satisfaction level.\n"
          ]
        }
      ],
      "source": [
        "# Decision\n",
        "if chi_square_statistic > critical_value:\n",
        "    print(\"Reject the null hypothesis: There is a significant association between the type of smart home device purchased and the customer satisfaction level.\")\n",
        "else:\n",
        "    print(\"Fail to reject the null hypothesis: There is no significant association between the type of smart home device purchased and the customer satisfaction level.\")\n"
      ]
    },
    {
      "cell_type": "markdown",
      "source": [
        "Since the computed Chi-Square statistic 5.63 is greater than the critical value of 9.488, and the p-value is less than 0.05, **we reject the null hypothesis.**"
      ],
      "metadata": {
        "id": "tOTdEfqVkSWk"
      },
      "id": "tOTdEfqVkSWk"
    },
    {
      "cell_type": "markdown",
      "source": [
        "**There is strong evidence to suggest that there is a significant association between the type of smart home device purchased and the customer satisfaction level.**"
      ],
      "metadata": {
        "id": "y6FeyERSkYhG"
      },
      "id": "y6FeyERSkYhG"
    }
  ],
  "metadata": {
    "kernelspec": {
      "display_name": "Python 3 (ipykernel)",
      "language": "python",
      "name": "python3"
    },
    "language_info": {
      "codemirror_mode": {
        "name": "ipython",
        "version": 3
      },
      "file_extension": ".py",
      "mimetype": "text/x-python",
      "name": "python",
      "nbconvert_exporter": "python",
      "pygments_lexer": "ipython3",
      "version": "3.11.5"
    },
    "colab": {
      "provenance": []
    }
  },
  "nbformat": 4,
  "nbformat_minor": 5
}